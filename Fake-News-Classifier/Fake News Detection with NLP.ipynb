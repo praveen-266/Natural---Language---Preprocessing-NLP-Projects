{
 "cells": [
  {
   "cell_type": "code",
   "execution_count": 1,
   "id": "bbc2d8ef",
   "metadata": {},
   "outputs": [
    {
     "name": "stdout",
     "output_type": "stream",
     "text": [
      "[nltk_data] Error loading stopwords: <urlopen error [Errno 11001]\n",
      "[nltk_data]     getaddrinfo failed>\n"
     ]
    }
   ],
   "source": [
    "import numpy as np\n",
    "import pandas as pd\n",
    "import matplotlib.pyplot as plt\n",
    "import seaborn as sns\n",
    "import warnings\n",
    "warnings.filterwarnings('ignore')\n",
    "import nltk\n",
    "nltk.download('stopwords')\n",
    "from nltk.corpus import stopwords"
   ]
  },
  {
   "cell_type": "code",
   "execution_count": 2,
   "id": "60474f26",
   "metadata": {},
   "outputs": [],
   "source": [
    "fake=pd.read_csv(\"C:\\\\Users\\\\prave\\\\datasets\\\\csv files\\\\NLP dataset\\\\fake and real\\\\Fake.csv\")\n",
    "\n",
    "true=pd.read_csv(\"C:\\\\Users\\\\prave\\\\datasets\\\\csv files\\\\NLP dataset\\\\fake and real\\\\True.csv\")"
   ]
  },
  {
   "cell_type": "code",
   "execution_count": 3,
   "id": "24906646",
   "metadata": {},
   "outputs": [
    {
     "data": {
      "text/html": [
       "<div>\n",
       "<style scoped>\n",
       "    .dataframe tbody tr th:only-of-type {\n",
       "        vertical-align: middle;\n",
       "    }\n",
       "\n",
       "    .dataframe tbody tr th {\n",
       "        vertical-align: top;\n",
       "    }\n",
       "\n",
       "    .dataframe thead th {\n",
       "        text-align: right;\n",
       "    }\n",
       "</style>\n",
       "<table border=\"1\" class=\"dataframe\">\n",
       "  <thead>\n",
       "    <tr style=\"text-align: right;\">\n",
       "      <th></th>\n",
       "      <th>title</th>\n",
       "      <th>text</th>\n",
       "      <th>subject</th>\n",
       "      <th>date</th>\n",
       "    </tr>\n",
       "  </thead>\n",
       "  <tbody>\n",
       "    <tr>\n",
       "      <th>0</th>\n",
       "      <td>Donald Trump Sends Out Embarrassing New Year’...</td>\n",
       "      <td>Donald Trump just couldn t wish all Americans ...</td>\n",
       "      <td>News</td>\n",
       "      <td>December 31, 2017</td>\n",
       "    </tr>\n",
       "    <tr>\n",
       "      <th>1</th>\n",
       "      <td>Drunk Bragging Trump Staffer Started Russian ...</td>\n",
       "      <td>House Intelligence Committee Chairman Devin Nu...</td>\n",
       "      <td>News</td>\n",
       "      <td>December 31, 2017</td>\n",
       "    </tr>\n",
       "    <tr>\n",
       "      <th>2</th>\n",
       "      <td>Sheriff David Clarke Becomes An Internet Joke...</td>\n",
       "      <td>On Friday, it was revealed that former Milwauk...</td>\n",
       "      <td>News</td>\n",
       "      <td>December 30, 2017</td>\n",
       "    </tr>\n",
       "    <tr>\n",
       "      <th>3</th>\n",
       "      <td>Trump Is So Obsessed He Even Has Obama’s Name...</td>\n",
       "      <td>On Christmas day, Donald Trump announced that ...</td>\n",
       "      <td>News</td>\n",
       "      <td>December 29, 2017</td>\n",
       "    </tr>\n",
       "    <tr>\n",
       "      <th>4</th>\n",
       "      <td>Pope Francis Just Called Out Donald Trump Dur...</td>\n",
       "      <td>Pope Francis used his annual Christmas Day mes...</td>\n",
       "      <td>News</td>\n",
       "      <td>December 25, 2017</td>\n",
       "    </tr>\n",
       "  </tbody>\n",
       "</table>\n",
       "</div>"
      ],
      "text/plain": [
       "                                               title  \\\n",
       "0   Donald Trump Sends Out Embarrassing New Year’...   \n",
       "1   Drunk Bragging Trump Staffer Started Russian ...   \n",
       "2   Sheriff David Clarke Becomes An Internet Joke...   \n",
       "3   Trump Is So Obsessed He Even Has Obama’s Name...   \n",
       "4   Pope Francis Just Called Out Donald Trump Dur...   \n",
       "\n",
       "                                                text subject  \\\n",
       "0  Donald Trump just couldn t wish all Americans ...    News   \n",
       "1  House Intelligence Committee Chairman Devin Nu...    News   \n",
       "2  On Friday, it was revealed that former Milwauk...    News   \n",
       "3  On Christmas day, Donald Trump announced that ...    News   \n",
       "4  Pope Francis used his annual Christmas Day mes...    News   \n",
       "\n",
       "                date  \n",
       "0  December 31, 2017  \n",
       "1  December 31, 2017  \n",
       "2  December 30, 2017  \n",
       "3  December 29, 2017  \n",
       "4  December 25, 2017  "
      ]
     },
     "execution_count": 3,
     "metadata": {},
     "output_type": "execute_result"
    }
   ],
   "source": [
    "fake.head()"
   ]
  },
  {
   "cell_type": "code",
   "execution_count": 4,
   "id": "3828667f",
   "metadata": {},
   "outputs": [
    {
     "data": {
      "text/html": [
       "<div>\n",
       "<style scoped>\n",
       "    .dataframe tbody tr th:only-of-type {\n",
       "        vertical-align: middle;\n",
       "    }\n",
       "\n",
       "    .dataframe tbody tr th {\n",
       "        vertical-align: top;\n",
       "    }\n",
       "\n",
       "    .dataframe thead th {\n",
       "        text-align: right;\n",
       "    }\n",
       "</style>\n",
       "<table border=\"1\" class=\"dataframe\">\n",
       "  <thead>\n",
       "    <tr style=\"text-align: right;\">\n",
       "      <th></th>\n",
       "      <th>title</th>\n",
       "      <th>text</th>\n",
       "      <th>subject</th>\n",
       "      <th>date</th>\n",
       "    </tr>\n",
       "  </thead>\n",
       "  <tbody>\n",
       "    <tr>\n",
       "      <th>0</th>\n",
       "      <td>As U.S. budget fight looms, Republicans flip t...</td>\n",
       "      <td>WASHINGTON (Reuters) - The head of a conservat...</td>\n",
       "      <td>politicsNews</td>\n",
       "      <td>December 31, 2017</td>\n",
       "    </tr>\n",
       "    <tr>\n",
       "      <th>1</th>\n",
       "      <td>U.S. military to accept transgender recruits o...</td>\n",
       "      <td>WASHINGTON (Reuters) - Transgender people will...</td>\n",
       "      <td>politicsNews</td>\n",
       "      <td>December 29, 2017</td>\n",
       "    </tr>\n",
       "    <tr>\n",
       "      <th>2</th>\n",
       "      <td>Senior U.S. Republican senator: 'Let Mr. Muell...</td>\n",
       "      <td>WASHINGTON (Reuters) - The special counsel inv...</td>\n",
       "      <td>politicsNews</td>\n",
       "      <td>December 31, 2017</td>\n",
       "    </tr>\n",
       "    <tr>\n",
       "      <th>3</th>\n",
       "      <td>FBI Russia probe helped by Australian diplomat...</td>\n",
       "      <td>WASHINGTON (Reuters) - Trump campaign adviser ...</td>\n",
       "      <td>politicsNews</td>\n",
       "      <td>December 30, 2017</td>\n",
       "    </tr>\n",
       "    <tr>\n",
       "      <th>4</th>\n",
       "      <td>Trump wants Postal Service to charge 'much mor...</td>\n",
       "      <td>SEATTLE/WASHINGTON (Reuters) - President Donal...</td>\n",
       "      <td>politicsNews</td>\n",
       "      <td>December 29, 2017</td>\n",
       "    </tr>\n",
       "  </tbody>\n",
       "</table>\n",
       "</div>"
      ],
      "text/plain": [
       "                                               title  \\\n",
       "0  As U.S. budget fight looms, Republicans flip t...   \n",
       "1  U.S. military to accept transgender recruits o...   \n",
       "2  Senior U.S. Republican senator: 'Let Mr. Muell...   \n",
       "3  FBI Russia probe helped by Australian diplomat...   \n",
       "4  Trump wants Postal Service to charge 'much mor...   \n",
       "\n",
       "                                                text       subject  \\\n",
       "0  WASHINGTON (Reuters) - The head of a conservat...  politicsNews   \n",
       "1  WASHINGTON (Reuters) - Transgender people will...  politicsNews   \n",
       "2  WASHINGTON (Reuters) - The special counsel inv...  politicsNews   \n",
       "3  WASHINGTON (Reuters) - Trump campaign adviser ...  politicsNews   \n",
       "4  SEATTLE/WASHINGTON (Reuters) - President Donal...  politicsNews   \n",
       "\n",
       "                 date  \n",
       "0  December 31, 2017   \n",
       "1  December 29, 2017   \n",
       "2  December 31, 2017   \n",
       "3  December 30, 2017   \n",
       "4  December 29, 2017   "
      ]
     },
     "execution_count": 4,
     "metadata": {},
     "output_type": "execute_result"
    }
   ],
   "source": [
    "true.head()"
   ]
  },
  {
   "cell_type": "code",
   "execution_count": 5,
   "id": "1e11d7b9",
   "metadata": {},
   "outputs": [],
   "source": [
    "#First Creating list of index that do not have publication part\n",
    "unknown_publishers = []\n",
    "for index,row in enumerate(true.text.values):\n",
    "    try:\n",
    "        record = row.split(\" -\", maxsplit=1)\n",
    "        #if no text part is present, following will give error\n",
    "        record[1]\n",
    "        #if len of publication part is greater than 260\n",
    "        #following will give error, ensuring no text having \"-\" in between is counted\n",
    "        assert(len(record[0]) < 260)\n",
    "    except:\n",
    "        unknown_publishers.append(index)"
   ]
  },
  {
   "cell_type": "code",
   "execution_count": 6,
   "id": "b3b1fe57",
   "metadata": {},
   "outputs": [
    {
     "data": {
      "text/plain": [
       "3488     The White House on Wednesday disclosed a group...\n",
       "4358     Neil Gorsuch, President Donald Trump’s appoint...\n",
       "4465     WASHINGTON The clock began running out this we...\n",
       "5784     Federal appeals court judge Neil Gorsuch, the ...\n",
       "6660     Republican members of Congress are complaining...\n",
       "6823     Over the course of the U.S. presidential campa...\n",
       "7922     After going through a week reminiscent of Napo...\n",
       "8194     The following timeline charts the origin and s...\n",
       "8195     Global health officials are racing to better u...\n",
       "8247     U.S. President Barack Obama visited a street m...\n",
       "8465     ALGONAC, MICH.—Parker Fox drifted out of the D...\n",
       "8481     Global health officials are racing to better u...\n",
       "8482     The following timeline charts the origin and s...\n",
       "8505     Global health officials are racing to better u...\n",
       "8506     The following timeline charts the origin and s...\n",
       "8771     In a speech weighted with America’s complicate...\n",
       "8970                                                      \n",
       "9008     The following timeline charts the origin and s...\n",
       "9009     Global health officials are racing to better u...\n",
       "9307     It’s the near future, and North Korea’s regime...\n",
       "9618     GOP leaders have unleashed a stunning level of...\n",
       "9737     Caitlyn Jenner posted a video on Wednesday (Ap...\n",
       "10479    The Democratic and Republican nominees for the...\n",
       "Name: text, dtype: object"
      ]
     },
     "execution_count": 6,
     "metadata": {},
     "output_type": "execute_result"
    }
   ],
   "source": [
    "# Hence we have a list of indices where publisher is not mentioned\n",
    "true.iloc[unknown_publishers].text"
   ]
  },
  {
   "cell_type": "code",
   "execution_count": 7,
   "id": "7fc8f5b9",
   "metadata": {},
   "outputs": [],
   "source": [
    "# separating publishers from the news text\n",
    "publisher = []\n",
    "tmp_text = []\n",
    "for index, row in enumerate(true.text.values):\n",
    "    if index in unknown_publishers:\n",
    "        # add text to tmp_text and \"unknown\" to publishers\n",
    "        #tmp_text.append(row)\n",
    "        tmp_text.append(row)\n",
    "        publisher.append(\"Unknown\")\n",
    "        continue\n",
    "    record = row.split(' -', maxsplit=1)\n",
    "    tmp_text.append(record[1])\n",
    "    publisher.append(record[0])"
   ]
  },
  {
   "cell_type": "code",
   "execution_count": 8,
   "id": "4d689896",
   "metadata": {},
   "outputs": [],
   "source": [
    "# changing the dataframe by replacing text column by temp_text and adding publisher column \n",
    "true['publisher']=publisher\n",
    "true['text']=tmp_text"
   ]
  },
  {
   "cell_type": "code",
   "execution_count": 9,
   "id": "5411aea7",
   "metadata": {},
   "outputs": [
    {
     "data": {
      "text/html": [
       "<div>\n",
       "<style scoped>\n",
       "    .dataframe tbody tr th:only-of-type {\n",
       "        vertical-align: middle;\n",
       "    }\n",
       "\n",
       "    .dataframe tbody tr th {\n",
       "        vertical-align: top;\n",
       "    }\n",
       "\n",
       "    .dataframe thead th {\n",
       "        text-align: right;\n",
       "    }\n",
       "</style>\n",
       "<table border=\"1\" class=\"dataframe\">\n",
       "  <thead>\n",
       "    <tr style=\"text-align: right;\">\n",
       "      <th></th>\n",
       "      <th>title</th>\n",
       "      <th>text</th>\n",
       "      <th>subject</th>\n",
       "      <th>date</th>\n",
       "      <th>publisher</th>\n",
       "    </tr>\n",
       "  </thead>\n",
       "  <tbody>\n",
       "    <tr>\n",
       "      <th>0</th>\n",
       "      <td>As U.S. budget fight looms, Republicans flip t...</td>\n",
       "      <td>The head of a conservative Republican faction...</td>\n",
       "      <td>politicsNews</td>\n",
       "      <td>December 31, 2017</td>\n",
       "      <td>WASHINGTON (Reuters)</td>\n",
       "    </tr>\n",
       "    <tr>\n",
       "      <th>1</th>\n",
       "      <td>U.S. military to accept transgender recruits o...</td>\n",
       "      <td>Transgender people will be allowed for the fi...</td>\n",
       "      <td>politicsNews</td>\n",
       "      <td>December 29, 2017</td>\n",
       "      <td>WASHINGTON (Reuters)</td>\n",
       "    </tr>\n",
       "    <tr>\n",
       "      <th>2</th>\n",
       "      <td>Senior U.S. Republican senator: 'Let Mr. Muell...</td>\n",
       "      <td>The special counsel investigation of links be...</td>\n",
       "      <td>politicsNews</td>\n",
       "      <td>December 31, 2017</td>\n",
       "      <td>WASHINGTON (Reuters)</td>\n",
       "    </tr>\n",
       "    <tr>\n",
       "      <th>3</th>\n",
       "      <td>FBI Russia probe helped by Australian diplomat...</td>\n",
       "      <td>Trump campaign adviser George Papadopoulos to...</td>\n",
       "      <td>politicsNews</td>\n",
       "      <td>December 30, 2017</td>\n",
       "      <td>WASHINGTON (Reuters)</td>\n",
       "    </tr>\n",
       "    <tr>\n",
       "      <th>4</th>\n",
       "      <td>Trump wants Postal Service to charge 'much mor...</td>\n",
       "      <td>President Donald Trump called on the U.S. Pos...</td>\n",
       "      <td>politicsNews</td>\n",
       "      <td>December 29, 2017</td>\n",
       "      <td>SEATTLE/WASHINGTON (Reuters)</td>\n",
       "    </tr>\n",
       "  </tbody>\n",
       "</table>\n",
       "</div>"
      ],
      "text/plain": [
       "                                               title  \\\n",
       "0  As U.S. budget fight looms, Republicans flip t...   \n",
       "1  U.S. military to accept transgender recruits o...   \n",
       "2  Senior U.S. Republican senator: 'Let Mr. Muell...   \n",
       "3  FBI Russia probe helped by Australian diplomat...   \n",
       "4  Trump wants Postal Service to charge 'much mor...   \n",
       "\n",
       "                                                text       subject  \\\n",
       "0   The head of a conservative Republican faction...  politicsNews   \n",
       "1   Transgender people will be allowed for the fi...  politicsNews   \n",
       "2   The special counsel investigation of links be...  politicsNews   \n",
       "3   Trump campaign adviser George Papadopoulos to...  politicsNews   \n",
       "4   President Donald Trump called on the U.S. Pos...  politicsNews   \n",
       "\n",
       "                 date                     publisher  \n",
       "0  December 31, 2017           WASHINGTON (Reuters)  \n",
       "1  December 29, 2017           WASHINGTON (Reuters)  \n",
       "2  December 31, 2017           WASHINGTON (Reuters)  \n",
       "3  December 30, 2017           WASHINGTON (Reuters)  \n",
       "4  December 29, 2017   SEATTLE/WASHINGTON (Reuters)  "
      ]
     },
     "execution_count": 9,
     "metadata": {},
     "output_type": "execute_result"
    }
   ],
   "source": [
    "true.head()"
   ]
  },
  {
   "cell_type": "code",
   "execution_count": 10,
   "id": "2166ad16",
   "metadata": {},
   "outputs": [
    {
     "data": {
      "text/plain": [
       "[8970]"
      ]
     },
     "execution_count": 10,
     "metadata": {},
     "output_type": "execute_result"
    }
   ],
   "source": [
    "# checking for empty text\n",
    "[index for index,text in enumerate(true.text.values) if str(text.strip())==\"\"]"
   ]
  },
  {
   "cell_type": "code",
   "execution_count": 11,
   "id": "5fed6ac0",
   "metadata": {},
   "outputs": [],
   "source": [
    "true.drop(8970,axis=0,inplace=True)"
   ]
  },
  {
   "cell_type": "code",
   "execution_count": 12,
   "id": "b1544cae",
   "metadata": {},
   "outputs": [
    {
     "name": "stdout",
     "output_type": "stream",
     "text": [
      "No.Of Empty Rows:630\n"
     ]
    },
    {
     "data": {
      "text/html": [
       "<div>\n",
       "<style scoped>\n",
       "    .dataframe tbody tr th:only-of-type {\n",
       "        vertical-align: middle;\n",
       "    }\n",
       "\n",
       "    .dataframe tbody tr th {\n",
       "        vertical-align: top;\n",
       "    }\n",
       "\n",
       "    .dataframe thead th {\n",
       "        text-align: right;\n",
       "    }\n",
       "</style>\n",
       "<table border=\"1\" class=\"dataframe\">\n",
       "  <thead>\n",
       "    <tr style=\"text-align: right;\">\n",
       "      <th></th>\n",
       "      <th>title</th>\n",
       "      <th>text</th>\n",
       "      <th>subject</th>\n",
       "      <th>date</th>\n",
       "    </tr>\n",
       "  </thead>\n",
       "  <tbody>\n",
       "    <tr>\n",
       "      <th>10923</th>\n",
       "      <td>TAKE OUR POLL: Who Do You Think President Trum...</td>\n",
       "      <td></td>\n",
       "      <td>politics</td>\n",
       "      <td>May 10, 2017</td>\n",
       "    </tr>\n",
       "    <tr>\n",
       "      <th>11041</th>\n",
       "      <td>Joe Scarborough BERATES Mika Brzezinski Over “...</td>\n",
       "      <td></td>\n",
       "      <td>politics</td>\n",
       "      <td>Apr 26, 2017</td>\n",
       "    </tr>\n",
       "    <tr>\n",
       "      <th>11190</th>\n",
       "      <td>WATCH TUCKER CARLSON Scorch Sanctuary City May...</td>\n",
       "      <td></td>\n",
       "      <td>politics</td>\n",
       "      <td>Apr 6, 2017</td>\n",
       "    </tr>\n",
       "    <tr>\n",
       "      <th>11225</th>\n",
       "      <td>MAYOR OF SANCTUARY CITY: Trump Trying To Make ...</td>\n",
       "      <td></td>\n",
       "      <td>politics</td>\n",
       "      <td>Apr 2, 2017</td>\n",
       "    </tr>\n",
       "    <tr>\n",
       "      <th>11236</th>\n",
       "      <td>SHOCKER: Public School Turns Computer Lab Into...</td>\n",
       "      <td></td>\n",
       "      <td>politics</td>\n",
       "      <td>Apr 1, 2017</td>\n",
       "    </tr>\n",
       "  </tbody>\n",
       "</table>\n",
       "</div>"
      ],
      "text/plain": [
       "                                                   title text   subject  \\\n",
       "10923  TAKE OUR POLL: Who Do You Think President Trum...       politics   \n",
       "11041  Joe Scarborough BERATES Mika Brzezinski Over “...       politics   \n",
       "11190  WATCH TUCKER CARLSON Scorch Sanctuary City May...       politics   \n",
       "11225  MAYOR OF SANCTUARY CITY: Trump Trying To Make ...       politics   \n",
       "11236  SHOCKER: Public School Turns Computer Lab Into...       politics   \n",
       "\n",
       "               date  \n",
       "10923  May 10, 2017  \n",
       "11041  Apr 26, 2017  \n",
       "11190   Apr 6, 2017  \n",
       "11225   Apr 2, 2017  \n",
       "11236   Apr 1, 2017  "
      ]
     },
     "execution_count": 12,
     "metadata": {},
     "output_type": "execute_result"
    }
   ],
   "source": [
    "# checking empty text in fake news also\n",
    "empty_fake_rows=[index for index,text in enumerate(fake.text.values) if str(text.strip())==\"\"]\n",
    "print(f'No.Of Empty Rows:{len(empty_fake_rows)}')\n",
    "fake.iloc[empty_fake_rows].head()"
   ]
  },
  {
   "cell_type": "code",
   "execution_count": 13,
   "id": "8f86de1a",
   "metadata": {},
   "outputs": [],
   "source": [
    "# Combining title and text because in fake news some of the titles containing text also\n",
    "fake['text']=fake['text'] + \" \" + fake['title']\n",
    "true['text']=true['text'] + \" \" + true['title']"
   ]
  },
  {
   "cell_type": "code",
   "execution_count": 14,
   "id": "4ce0ae64",
   "metadata": {},
   "outputs": [],
   "source": [
    "# drop Date , title and publication features\n",
    "fake.drop(['subject','date','title'],axis=1,inplace=True)\n",
    "true.drop(['subject','date','title','publisher'],axis=1,inplace=True)"
   ]
  },
  {
   "cell_type": "code",
   "execution_count": 15,
   "id": "3a0229be",
   "metadata": {},
   "outputs": [],
   "source": [
    "# Adding clss info\n",
    "true['class']=1\n",
    "fake['class']=0"
   ]
  },
  {
   "cell_type": "code",
   "execution_count": 16,
   "id": "b683d383",
   "metadata": {},
   "outputs": [],
   "source": [
    "# Combining both Fake and Treu into dataframe\n",
    "df=fake.append(true,ignore_index=True)"
   ]
  },
  {
   "cell_type": "markdown",
   "id": "7f63b8f5",
   "metadata": {},
   "source": [
    "### Split the dataset"
   ]
  },
  {
   "cell_type": "code",
   "execution_count": 17,
   "id": "9ce2e74d",
   "metadata": {},
   "outputs": [
    {
     "name": "stdout",
     "output_type": "stream",
     "text": [
      "X_train shape: (31427,) ,X_test size: (13470,)\n"
     ]
    }
   ],
   "source": [
    "x=df['text']\n",
    "y=df['class']\n",
    "from sklearn.model_selection import train_test_split\n",
    "X_train,X_test,y_train,y_test=train_test_split(x,y,test_size=0.3,random_state=0)\n",
    "print(\"X_train shape: {} ,X_test size: {}\".format(X_train.shape,X_test.shape))"
   ]
  },
  {
   "cell_type": "code",
   "execution_count": 18,
   "id": "3255705e",
   "metadata": {},
   "outputs": [],
   "source": [
    "# Creating bag of words with CountVectorizer\n",
    "from sklearn.feature_extraction.text import CountVectorizer\n",
    "cv=CountVectorizer(stop_words='english')\n",
    "count_train=cv.fit_transform(X_train)\n",
    "count_test=cv.transform(X_test)"
   ]
  },
  {
   "cell_type": "code",
   "execution_count": 19,
   "id": "0011e473",
   "metadata": {},
   "outputs": [],
   "source": [
    "# Creating bag of words with TFID-DF\n",
    "from sklearn.feature_extraction.text import TfidfVectorizer\n",
    "tf=TfidfVectorizer(stop_words='english')\n",
    "tf_train=tf.fit_transform(X_train)\n",
    "tf_test=tf.transform(X_test)"
   ]
  },
  {
   "cell_type": "markdown",
   "id": "847210b1",
   "metadata": {},
   "source": [
    "# Model Building"
   ]
  },
  {
   "cell_type": "markdown",
   "id": "fa7142eb",
   "metadata": {},
   "source": [
    "### Multinomial Naive Bayes"
   ]
  },
  {
   "cell_type": "code",
   "execution_count": 20,
   "id": "c9808a54",
   "metadata": {},
   "outputs": [],
   "source": [
    "from sklearn.naive_bayes import MultinomialNB\n",
    "from sklearn.metrics import accuracy_score,confusion_matrix,classification_report\n",
    "from sklearn.pipeline import Pipeline"
   ]
  },
  {
   "cell_type": "markdown",
   "id": "e01d8f21",
   "metadata": {},
   "source": [
    "#### Training and Testing the model with Countvectorizer"
   ]
  },
  {
   "cell_type": "code",
   "execution_count": 21,
   "id": "a5cde9b1",
   "metadata": {},
   "outputs": [],
   "source": [
    "nb=MultinomialNB()\n",
    "nb.fit(count_train,y_train)\n",
    "count_pred=nb.predict(count_test)\n",
    "score=accuracy_score(y_test,count_pred)"
   ]
  },
  {
   "cell_type": "code",
   "execution_count": 22,
   "id": "e45120cb",
   "metadata": {},
   "outputs": [
    {
     "name": "stdout",
     "output_type": "stream",
     "text": [
      "0.9471417965850037\n"
     ]
    }
   ],
   "source": [
    "print(score)"
   ]
  },
  {
   "cell_type": "code",
   "execution_count": 23,
   "id": "52781633",
   "metadata": {},
   "outputs": [
    {
     "name": "stdout",
     "output_type": "stream",
     "text": [
      "[[6696  329]\n",
      " [ 383 6062]]\n"
     ]
    }
   ],
   "source": [
    "cm=confusion_matrix(y_test,count_pred)\n",
    "print(cm)"
   ]
  },
  {
   "cell_type": "code",
   "execution_count": 24,
   "id": "2ca31030",
   "metadata": {},
   "outputs": [
    {
     "data": {
      "text/plain": [
       "<AxesSubplot:>"
      ]
     },
     "execution_count": 24,
     "metadata": {},
     "output_type": "execute_result"
    },
    {
     "data": {
      "image/png": "[encoded data removed]",
      "text/plain": [
       "<Figure size 432x288 with 2 Axes>"
      ]
     },
     "metadata": {
      "needs_background": "light"
     },
     "output_type": "display_data"
    }
   ],
   "source": [
    "sns.heatmap(cm,annot=True)"
   ]
  },
  {
   "cell_type": "markdown",
   "id": "c3ecf334",
   "metadata": {},
   "source": [
    "#### Training and Testing the model with TfidVectorizer"
   ]
  },
  {
   "cell_type": "code",
   "execution_count": 25,
   "id": "bc52a594",
   "metadata": {},
   "outputs": [],
   "source": [
    "nb=MultinomialNB()\n",
    "nb.fit(tf_train,y_train)\n",
    "tf_pred=nb.predict(tf_test)\n",
    "score=accuracy_score(y_test,tf_pred)"
   ]
  },
  {
   "cell_type": "code",
   "execution_count": 26,
   "id": "2c148d87",
   "metadata": {},
   "outputs": [
    {
     "name": "stdout",
     "output_type": "stream",
     "text": [
      "0.9349665924276169\n"
     ]
    }
   ],
   "source": [
    "print(score)"
   ]
  },
  {
   "cell_type": "code",
   "execution_count": 27,
   "id": "94ef99d7",
   "metadata": {},
   "outputs": [
    {
     "name": "stdout",
     "output_type": "stream",
     "text": [
      "[[6639  386]\n",
      " [ 490 5955]]\n"
     ]
    }
   ],
   "source": [
    "cm=confusion_matrix(y_test,tf_pred)\n",
    "print(cm)"
   ]
  },
  {
   "cell_type": "code",
   "execution_count": 28,
   "id": "d7ac9f36",
   "metadata": {},
   "outputs": [
    {
     "data": {
      "text/plain": [
       "<AxesSubplot:>"
      ]
     },
     "execution_count": 28,
     "metadata": {},
     "output_type": "execute_result"
    },
    {
     "data": {
      "image/png": "[encoded data removed]",
      "text/plain": [
       "<Figure size 432x288 with 2 Axes>"
      ]
     },
     "metadata": {
      "needs_background": "light"
     },
     "output_type": "display_data"
    }
   ],
   "source": [
    "sns.heatmap(cm,annot=True)"
   ]
  },
  {
   "cell_type": "markdown",
   "id": "a5620201",
   "metadata": {},
   "source": [
    "## Simple NLP"
   ]
  },
  {
   "cell_type": "code",
   "execution_count": 29,
   "id": "c0985905",
   "metadata": {},
   "outputs": [],
   "source": [
    "alphas=np.arange(0,1,0.1)"
   ]
  },
  {
   "cell_type": "code",
   "execution_count": 30,
   "id": "6bd57b1c",
   "metadata": {},
   "outputs": [],
   "source": [
    "def train_and_predict(alpha):\n",
    "    nb=MultinomialNB(alpha=alpha)\n",
    "    nb.fit(count_train,y_train)\n",
    "    pred=nb.predict(count_test)\n",
    "    score=accuracy_score(y_test,pred)\n",
    "    return score"
   ]
  },
  {
   "cell_type": "code",
   "execution_count": 31,
   "id": "c3ad3893",
   "metadata": {},
   "outputs": [
    {
     "name": "stdout",
     "output_type": "stream",
     "text": [
      "Alpha: 0.0\n",
      "Score: 0.9492204899777282\n",
      "\n",
      "Alpha: 0.1\n",
      "Score: 0.9505567928730512\n",
      "\n",
      "Alpha: 0.2\n",
      "Score: 0.949517446176689\n",
      "\n",
      "Alpha: 0.30000000000000004\n",
      "Score: 0.9488492947290275\n",
      "\n",
      "Alpha: 0.4\n",
      "Score: 0.9482553823311062\n",
      "\n",
      "Alpha: 0.5\n",
      "Score: 0.948181143281366\n",
      "\n",
      "Alpha: 0.6000000000000001\n",
      "Score: 0.948181143281366\n",
      "\n",
      "Alpha: 0.7000000000000001\n",
      "Score: 0.9478841870824053\n",
      "\n",
      "Alpha: 0.8\n",
      "Score: 0.9475129918337045\n",
      "\n",
      "Alpha: 0.9\n",
      "Score: 0.947290274684484\n",
      "\n"
     ]
    }
   ],
   "source": [
    "for alpha in alphas:\n",
    "    print('Alpha:',alpha)\n",
    "    print(\"Score:\",train_and_predict(alpha))\n",
    "    print()"
   ]
  },
  {
   "cell_type": "code",
   "execution_count": 32,
   "id": "c482008a",
   "metadata": {},
   "outputs": [
    {
     "data": {
      "text/plain": [
       "MultinomialNB(alpha=0.1)"
      ]
     },
     "execution_count": 32,
     "metadata": {},
     "output_type": "execute_result"
    }
   ],
   "source": [
    "classifier = MultinomialNB(alpha=0.1)\n",
    "classifier.fit(count_train, y_train)"
   ]
  },
  {
   "cell_type": "code",
   "execution_count": 33,
   "id": "f1f80c9b",
   "metadata": {},
   "outputs": [
    {
     "data": {
      "text/plain": [
       "Pipeline(steps=[('cv', CountVectorizer(stop_words='english')),\n",
       "                ('nb', MultinomialNB(alpha=0.1))])"
      ]
     },
     "execution_count": 33,
     "metadata": {},
     "output_type": "execute_result"
    }
   ],
   "source": [
    "pipeline=Pipeline([('cv',CountVectorizer(stop_words='english')),('nb',MultinomialNB(alpha=0.1))])\n",
    "pipeline.fit(X_train,y_train)"
   ]
  },
  {
   "cell_type": "code",
   "execution_count": 34,
   "id": "63da1be3",
   "metadata": {},
   "outputs": [],
   "source": [
    "pred=pipeline.predict(X_test)"
   ]
  },
  {
   "cell_type": "code",
   "execution_count": 35,
   "id": "3663269c",
   "metadata": {},
   "outputs": [
    {
     "name": "stdout",
     "output_type": "stream",
     "text": [
      "              precision    recall  f1-score   support\n",
      "\n",
      "           0       0.95      0.96      0.95      7025\n",
      "           1       0.96      0.94      0.95      6445\n",
      "\n",
      "    accuracy                           0.95     13470\n",
      "   macro avg       0.95      0.95      0.95     13470\n",
      "weighted avg       0.95      0.95      0.95     13470\n",
      "\n"
     ]
    }
   ],
   "source": [
    "print(classification_report(y_test,pred))"
   ]
  },
  {
   "cell_type": "code",
   "execution_count": 36,
   "id": "e0079298",
   "metadata": {},
   "outputs": [
    {
     "name": "stdout",
     "output_type": "stream",
     "text": [
      "[[6741  284]\n",
      " [ 382 6063]]\n"
     ]
    }
   ],
   "source": [
    "print(confusion_matrix(y_test,pred))"
   ]
  },
  {
   "cell_type": "markdown",
   "id": "9c19207f",
   "metadata": {},
   "source": [
    "# Saving The Model"
   ]
  },
  {
   "cell_type": "code",
   "execution_count": 37,
   "id": "56b953f4",
   "metadata": {},
   "outputs": [],
   "source": [
    "import pickle"
   ]
  }
 ],
 "metadata": {
  "kernelspec": {
   "display_name": "Python 3 (ipykernel)",
   "language": "python",
   "name": "python3"
  },
  "language_info": {
   "codemirror_mode": {
    "name": "ipython",
    "version": 3
   },
   "file_extension": ".py",
   "mimetype": "text/x-python",
   "name": "python",
   "nbconvert_exporter": "python",
   "pygments_lexer": "ipython3",
   "version": "3.9.5"
  }
 },
 "nbformat": 4,
 "nbformat_minor": 5
}
