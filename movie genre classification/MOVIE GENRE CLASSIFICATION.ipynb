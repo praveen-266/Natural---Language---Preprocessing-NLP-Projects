{
 "cells": [
  {
   "cell_type": "code",
   "execution_count": 1,
   "id": "7196b81d",
   "metadata": {},
   "outputs": [],
   "source": [
    "import numpy as np\n",
    "import pandas as pd\n",
    "import matplotlib.pyplot as plt\n",
    "import seaborn as sns\n",
    "import warnings\n",
    "warnings.filterwarnings('ignore')"
   ]
  },
  {
   "cell_type": "code",
   "execution_count": 2,
   "id": "70f9fac0",
   "metadata": {},
   "outputs": [
    {
     "name": "stdout",
     "output_type": "stream",
     "text": [
      "C:\\users\\prave\\datasets\\csv files\\NLP dataset\\movie genre classification\n"
     ]
    }
   ],
   "source": [
    "cd/users/prave/datasets/csv files/NLP dataset/movie genre classification"
   ]
  },
  {
   "cell_type": "code",
   "execution_count": 3,
   "id": "1720aa53",
   "metadata": {},
   "outputs": [
    {
     "data": {
      "text/html": [
       "<div>\n",
       "<style scoped>\n",
       "    .dataframe tbody tr th:only-of-type {\n",
       "        vertical-align: middle;\n",
       "    }\n",
       "\n",
       "    .dataframe tbody tr th {\n",
       "        vertical-align: top;\n",
       "    }\n",
       "\n",
       "    .dataframe thead th {\n",
       "        text-align: right;\n",
       "    }\n",
       "</style>\n",
       "<table border=\"1\" class=\"dataframe\">\n",
       "  <thead>\n",
       "    <tr style=\"text-align: right;\">\n",
       "      <th></th>\n",
       "      <th>id</th>\n",
       "      <th>text</th>\n",
       "      <th>genre</th>\n",
       "    </tr>\n",
       "  </thead>\n",
       "  <tbody>\n",
       "    <tr>\n",
       "      <th>0</th>\n",
       "      <td>0</td>\n",
       "      <td>eady dead, maybe even wishing he was. INT. 2ND...</td>\n",
       "      <td>thriller</td>\n",
       "    </tr>\n",
       "    <tr>\n",
       "      <th>1</th>\n",
       "      <td>2</td>\n",
       "      <td>t, summa cum laude and all. And I'm about to l...</td>\n",
       "      <td>comedy</td>\n",
       "    </tr>\n",
       "    <tr>\n",
       "      <th>2</th>\n",
       "      <td>3</td>\n",
       "      <td>up Come, I have a surprise.... She takes him ...</td>\n",
       "      <td>drama</td>\n",
       "    </tr>\n",
       "    <tr>\n",
       "      <th>3</th>\n",
       "      <td>4</td>\n",
       "      <td>ded by the two detectives. INT. JEFF'S APARTME...</td>\n",
       "      <td>thriller</td>\n",
       "    </tr>\n",
       "    <tr>\n",
       "      <th>4</th>\n",
       "      <td>5</td>\n",
       "      <td>nd dismounts, just as the other children reach...</td>\n",
       "      <td>drama</td>\n",
       "    </tr>\n",
       "  </tbody>\n",
       "</table>\n",
       "</div>"
      ],
      "text/plain": [
       "   id                                               text     genre\n",
       "0   0  eady dead, maybe even wishing he was. INT. 2ND...  thriller\n",
       "1   2  t, summa cum laude and all. And I'm about to l...    comedy\n",
       "2   3   up Come, I have a surprise.... She takes him ...     drama\n",
       "3   4  ded by the two detectives. INT. JEFF'S APARTME...  thriller\n",
       "4   5  nd dismounts, just as the other children reach...     drama"
      ]
     },
     "execution_count": 3,
     "metadata": {},
     "output_type": "execute_result"
    }
   ],
   "source": [
    "train=pd.read_csv(\"kaggle_movie_train.txt\")\n",
    "train.head()"
   ]
  },
  {
   "cell_type": "code",
   "execution_count": 4,
   "id": "90078cb7",
   "metadata": {},
   "outputs": [
    {
     "data": {
      "text/plain": [
       "(22579, 3)"
      ]
     },
     "execution_count": 4,
     "metadata": {},
     "output_type": "execute_result"
    }
   ],
   "source": [
    "train.shape"
   ]
  },
  {
   "cell_type": "code",
   "execution_count": 5,
   "id": "0a308022",
   "metadata": {},
   "outputs": [
    {
     "data": {
      "image/png": "[encoded data removed]",
      "text/plain": [
       "<Figure size 1008x432 with 1 Axes>"
      ]
     },
     "metadata": {
      "needs_background": "light"
     },
     "output_type": "display_data"
    }
   ],
   "source": [
    "# visualizing the count of \"genre\" column from the dataset\n",
    "plt.figure(figsize=(14,6))\n",
    "sns.countplot(train['genre'])\n",
    "plt.title(\"Distribution of genres\")\n",
    "plt.xlabel('Movie Genre')\n",
    "plt.ylabel('Count')\n",
    "plt.show()"
   ]
  },
  {
   "cell_type": "markdown",
   "id": "e50af418",
   "metadata": {},
   "source": [
    "# Data Cleaning & Preprocessing"
   ]
  },
  {
   "cell_type": "code",
   "execution_count": 6,
   "id": "a3745904",
   "metadata": {},
   "outputs": [
    {
     "data": {
      "text/plain": [
       "array(['action', 'adventure', 'comedy', 'drama', 'horror', 'other',\n",
       "       'romance', 'sci-fi', 'thriller'], dtype=object)"
      ]
     },
     "execution_count": 6,
     "metadata": {},
     "output_type": "execute_result"
    }
   ],
   "source": [
    "g=train['genre'].sort_values()\n",
    "g.unique()"
   ]
  },
  {
   "cell_type": "code",
   "execution_count": 7,
   "id": "35d14085",
   "metadata": {},
   "outputs": [],
   "source": [
    "# Mapping the genre to values\n",
    "train['genre']=train['genre'].map({'other':0,'action':1,'adventure':2,'comedy':3,'drama':4,'horror':5,'romance':6,'sci-fi':7,\n",
    "                                  'thriller':8})"
   ]
  },
  {
   "cell_type": "code",
   "execution_count": 8,
   "id": "8d5cb8ac",
   "metadata": {},
   "outputs": [
    {
     "data": {
      "text/plain": [
       "id       0\n",
       "text     0\n",
       "genre    0\n",
       "dtype: int64"
      ]
     },
     "execution_count": 8,
     "metadata": {},
     "output_type": "execute_result"
    }
   ],
   "source": [
    "train.isna().sum()"
   ]
  },
  {
   "cell_type": "code",
   "execution_count": 9,
   "id": "a3386cad",
   "metadata": {},
   "outputs": [],
   "source": [
    "# importing essential libraries for performing Natural Language Preprocessing\n",
    "import nltk\n",
    "import re\n",
    "from nltk.corpus import stopwords\n",
    "from nltk.stem.porter import PorterStemmer"
   ]
  },
  {
   "cell_type": "code",
   "execution_count": 10,
   "id": "e54e2367",
   "metadata": {},
   "outputs": [],
   "source": [
    "# Cleaning the text\n",
    "corpus=[]\n",
    "ps=PorterStemmer()\n",
    "\n",
    "for i in range(0,train.shape[0]):\n",
    "    \n",
    "    # cleaning special character fro the script\n",
    "    script=re.sub(pattern='[^a-zA-Z]',repl=' ',string=train['text'][i])\n",
    "    \n",
    "    # Converting the entire text into lower case\n",
    "    script=script.lower()\n",
    "    \n",
    "    # tokenizing the script by words\n",
    "    words=script.split()\n",
    "    \n",
    "    # Removing the stop words\n",
    "    script_words=[word for word in words if word not in set(stopwords.words('english'))]\n",
    "    \n",
    "    # stemming the stop words\n",
    "    words=[ps.stem(word) for word in script_words]\n",
    "    \n",
    "    # joining the stemmed words\n",
    "    script=' '.join(words)\n",
    "    \n",
    "    #creating a corpus\n",
    "    corpus.append(script)\n",
    "    "
   ]
  },
  {
   "cell_type": "code",
   "execution_count": 11,
   "id": "d1e4f80c",
   "metadata": {},
   "outputs": [
    {
     "data": {
      "text/plain": [
       "['eadi dead mayb even wish int nd floor hallway three night orderli lead liza door orderli white guy open door step room three white guy mid look wild straight jacket jerri liza reach end rope shake head int decrepit hospit room night ball fetal realli head press cement tri sing jerri blue moon blue moon int nd floor hallway three night liza stand lean rail wall orderli sure go know bad orderli okay liza start hall orderli follow orderli got new patient last week want see liza wave hopeless stop chicken wire window end hall look light break jerri somewher orderli look gotta get back work',\n",
       " 'summa cum laud launch brand new magazin call expos homag miss juli conroy xenia ohio juli grin juli know find excel editor chief ted yellow page juli let finger walk suddenli music chang peopl ted grin ted play song extend hand dare ask danc juli take hand better ted juli begin danc kiss b g charli jimmi feign tear charli sucker happi end hug jimmi hold start rise nelson hous cloud xenia ted v guess everybodi pretti much live happili ever parent give groceri store descend cloud quickli find ext london buckingham palac day mom dad take pictur smooch front palac ted v manag sneak away second honeymoon',\n",
       " 'come surpris take hand lead hallway salvator look feel pang seem smaller age wither bodi slightli stoop hair gather knot back head must tire want rest time funer salvator interrupt mamma take hour air know maria smile iron tell year salvator get messag feel guilti think seem incred never come maria open door step asid let son whisper put thing go go salvator lake step flabbergast sight old room perfectli reconstruct preserv look like museum museum past despit bed cloth cupboard book shelv perfectli clear one ever live',\n",
       " 'ded two detect int jeff apart night medium shot thorwald fight dislodg jeff grip ext jeff apart night close shot look jeff face show strain pain thorwald attack brick floor patio seem hundr feet int jeff apart night medium shot thorwald jeff struggl ext neighborhood night semi close shot doyl pull top wall lisa stella two men look lisa white face frighten int jeff apart night medium shot thorwald smash jeff arm hand jeff grip begin slip ext neighborhood night semi close shot doyl reach top wall look jeff ext neighborhood night medium long shot jeff seen doyl angl hang somehow weather thorwald insan attack ext neighborhood night semi close shot doyl reach servic revolv look call one dete',\n",
       " 'nd dismount children reach throw arm embrac charlott hurri behind martin lock eye envelop hug children ext fresh water plantat even summer oak tree cover leav martin hous partial rebuilt habit workshop alreadi complet martin children nathan samuel margaret william play tall grass front hous two great dane charlott sit front porch nurs infant martin walk workshop trail susan carri complet rock chair chair work art thin light spider web perfectli turn wood nail glue step onto porch next charlott place rock chair next martin two pound fourteen ounc charlott love smile make minut adjust chair posit sit settl back']"
      ]
     },
     "execution_count": 11,
     "metadata": {},
     "output_type": "execute_result"
    }
   ],
   "source": [
    "corpus[:5]"
   ]
  },
  {
   "cell_type": "code",
   "execution_count": 14,
   "id": "89b6801c",
   "metadata": {},
   "outputs": [],
   "source": [
    "# Creating the Bag of Words\n",
    "from sklearn.feature_extraction.text import CountVectorizer\n",
    "cv=CountVectorizer(max_features=10000)\n",
    "X=cv.fit_transform(corpus).toarray()\n",
    "y=train['genre'].values"
   ]
  },
  {
   "cell_type": "markdown",
   "id": "3f879645",
   "metadata": {},
   "source": [
    "# Model Building"
   ]
  },
  {
   "cell_type": "code",
   "execution_count": 15,
   "id": "4fe147d6",
   "metadata": {},
   "outputs": [
    {
     "name": "stdout",
     "output_type": "stream",
     "text": [
      "X_train shape: (15805, 10000) ,X_test size: (6774, 10000)\n"
     ]
    }
   ],
   "source": [
    "from sklearn.model_selection import train_test_split\n",
    "X_train,X_test,y_train,y_test=train_test_split(X,y,test_size=0.3,random_state=0)\n",
    "print(\"X_train shape: {} ,X_test size: {}\".format(X_train.shape,X_test.shape))"
   ]
  },
  {
   "cell_type": "markdown",
   "id": "306bd9b0",
   "metadata": {},
   "source": [
    "### Multinomial Naive Bayes"
   ]
  },
  {
   "cell_type": "code",
   "execution_count": 16,
   "id": "52ddce66",
   "metadata": {},
   "outputs": [],
   "source": [
    "# Fitting Naive Bayes to the Training set\n",
    "from sklearn.naive_bayes import MultinomialNB\n",
    "nb_classifier = MultinomialNB()\n",
    "nb_classifier.fit(X_train, y_train)\n",
    "\n",
    "# Predicting the Test set results\n",
    "nb_y_pred = nb_classifier.predict(X_test)"
   ]
  },
  {
   "cell_type": "code",
   "execution_count": 17,
   "id": "76169899",
   "metadata": {},
   "outputs": [
    {
     "name": "stdout",
     "output_type": "stream",
     "text": [
      "---- Score ----\n",
      "Accuracy score is: 89.89%\n"
     ]
    }
   ],
   "source": [
    "# Calculating Accuracy\n",
    "from sklearn.metrics import accuracy_score\n",
    "score1 = accuracy_score(y_test, nb_y_pred)\n",
    "print(\"---- Score ----\")\n",
    "print(\"Accuracy score is: {}%\".format(round(score1*100,2)))"
   ]
  },
  {
   "cell_type": "code",
   "execution_count": 25,
   "id": "a9d8e194",
   "metadata": {},
   "outputs": [
    {
     "data": {
      "image/png": "[encoded data removed]",
      "text/plain": [
       "<Figure size 1080x864 with 2 Axes>"
      ]
     },
     "metadata": {
      "needs_background": "light"
     },
     "output_type": "display_data"
    }
   ],
   "source": [
    "# Making the Confusion Matrix\n",
    "from sklearn.metrics import confusion_matrix\n",
    "nb_cm = confusion_matrix(y_test, nb_y_pred)\n",
    "\n",
    "\n",
    "# Plotting the confusion matrix\n",
    "plt.figure(figsize=(15,12))\n",
    "axis_labels = ['other', 'action', 'adventure', 'comedy', 'drama', 'horror', 'romance', 'sci-fi', 'thriller']\n",
    "sns.heatmap(data=nb_cm, annot=True, cmap=\"Blues\",fmt='g', xticklabels=axis_labels, yticklabels=axis_labels)\n",
    "plt.xlabel('Predicted values')\n",
    "plt.ylabel('Actual values')\n",
    "plt.title('Confusion Matrix for Multinomial Naive Bayes Algorithm')\n",
    "plt.show()"
   ]
  },
  {
   "cell_type": "code",
   "execution_count": 19,
   "id": "0fa162b8",
   "metadata": {},
   "outputs": [
    {
     "name": "stdout",
     "output_type": "stream",
     "text": [
      "Accuracy score for alpha=0.1 is: 91.72%\n",
      "Accuracy score for alpha=0.2 is: 91.38%\n",
      "Accuracy score for alpha=0.3 is: 91.07%\n",
      "Accuracy score for alpha=0.4 is: 90.83%\n",
      "Accuracy score for alpha=0.5 is: 90.57%\n",
      "Accuracy score for alpha=0.6 is: 90.43%\n",
      "Accuracy score for alpha=0.7 is: 90.23%\n",
      "Accuracy score for alpha=0.8 is: 90.12%\n",
      "Accuracy score for alpha=0.9 is: 89.96%\n",
      "Accuracy score for alpha=1.0 is: 89.89%\n",
      "--------------------------------------------\n",
      "The best accuracy is 91.72% with alpha value as 0.1\n"
     ]
    }
   ],
   "source": [
    "# Hyperparameter tuning the Naive Bayes Classifier\n",
    "best_accuracy = 0.0\n",
    "alpha_val = 0.0\n",
    "for i in np.arange(0.1,1.1,0.1):\n",
    "    temp_classifier = MultinomialNB(alpha=i)\n",
    "    temp_classifier.fit(X_train, y_train)\n",
    "    temp_y_pred = temp_classifier.predict(X_test)\n",
    "    score = accuracy_score(y_test, temp_y_pred)\n",
    "    print(\"Accuracy score for alpha={} is: {}%\".format(round(i,1), round(score*100,2)))\n",
    "    if score>best_accuracy:\n",
    "        best_accuracy = score\n",
    "        alpha_val = i\n",
    "print('--------------------------------------------')\n",
    "print('The best accuracy is {}% with alpha value as {}'.format(round(best_accuracy*100, 2), round(alpha_val,1)))"
   ]
  },
  {
   "cell_type": "code",
   "execution_count": 20,
   "id": "e9537f0c",
   "metadata": {},
   "outputs": [
    {
     "data": {
      "text/plain": [
       "MultinomialNB(alpha=0.1)"
      ]
     },
     "execution_count": 20,
     "metadata": {},
     "output_type": "execute_result"
    }
   ],
   "source": [
    "classifier = MultinomialNB(alpha=0.1)\n",
    "classifier.fit(X_train, y_train)"
   ]
  },
  {
   "cell_type": "markdown",
   "id": "4451e520",
   "metadata": {},
   "source": [
    "# Prediction"
   ]
  },
  {
   "cell_type": "code",
   "execution_count": 21,
   "id": "6ee98629",
   "metadata": {},
   "outputs": [],
   "source": [
    "def genre_prediction(sample_script):\n",
    "    sample_script = re.sub(pattern='[^a-zA-Z]',repl=' ', string=sample_script)\n",
    "    sample_script = sample_script.lower()\n",
    "    sample_script_words = sample_script.split()\n",
    "    sample_script_words = [word for word in sample_script_words if not word in set(stopwords.words('english'))]\n",
    "    ps = PorterStemmer()\n",
    "    final_script = [ps.stem(word) for word in sample_script_words]\n",
    "    final_script = ' '.join(final_script)\n",
    "\n",
    "    temp = cv.transform([final_script]).toarray()\n",
    "    return classifier.predict(temp)[0]"
   ]
  },
  {
   "cell_type": "code",
   "execution_count": 22,
   "id": "dac271c7",
   "metadata": {},
   "outputs": [],
   "source": [
    "# For generating random integer\n",
    "from random import randint"
   ]
  },
  {
   "cell_type": "code",
   "execution_count": 23,
   "id": "acb86224",
   "metadata": {},
   "outputs": [
    {
     "data": {
      "text/html": [
       "<div>\n",
       "<style scoped>\n",
       "    .dataframe tbody tr th:only-of-type {\n",
       "        vertical-align: middle;\n",
       "    }\n",
       "\n",
       "    .dataframe tbody tr th {\n",
       "        vertical-align: top;\n",
       "    }\n",
       "\n",
       "    .dataframe thead th {\n",
       "        text-align: right;\n",
       "    }\n",
       "</style>\n",
       "<table border=\"1\" class=\"dataframe\">\n",
       "  <thead>\n",
       "    <tr style=\"text-align: right;\">\n",
       "      <th></th>\n",
       "      <th>id</th>\n",
       "      <th>text</th>\n",
       "    </tr>\n",
       "  </thead>\n",
       "  <tbody>\n",
       "    <tr>\n",
       "      <th>0</th>\n",
       "      <td>1</td>\n",
       "      <td>glances at her. BOOK Maybe I ought to learn t...</td>\n",
       "    </tr>\n",
       "    <tr>\n",
       "      <th>1</th>\n",
       "      <td>8</td>\n",
       "      <td>hout breaking stride. Tatiana sees her and can...</td>\n",
       "    </tr>\n",
       "    <tr>\n",
       "      <th>2</th>\n",
       "      <td>13</td>\n",
       "      <td>dead bodies. GEORDI Mitchell... DePaul... LANG...</td>\n",
       "    </tr>\n",
       "    <tr>\n",
       "      <th>3</th>\n",
       "      <td>24</td>\n",
       "      <td>take myself. BRANDON How bad is the other thi...</td>\n",
       "    </tr>\n",
       "    <tr>\n",
       "      <th>4</th>\n",
       "      <td>38</td>\n",
       "      <td>her body to shield his own. KAY Freeze it, Bug...</td>\n",
       "    </tr>\n",
       "  </tbody>\n",
       "</table>\n",
       "</div>"
      ],
      "text/plain": [
       "   id                                               text\n",
       "0   1   glances at her. BOOK Maybe I ought to learn t...\n",
       "1   8  hout breaking stride. Tatiana sees her and can...\n",
       "2  13  dead bodies. GEORDI Mitchell... DePaul... LANG...\n",
       "3  24   take myself. BRANDON How bad is the other thi...\n",
       "4  38  her body to shield his own. KAY Freeze it, Bug..."
      ]
     },
     "execution_count": 23,
     "metadata": {},
     "output_type": "execute_result"
    }
   ],
   "source": [
    "test=pd.read_csv('kaggle_movie_test.csv')\n",
    "test.head()"
   ]
  },
  {
   "cell_type": "code",
   "execution_count": 57,
   "id": "5886e0ac",
   "metadata": {},
   "outputs": [
    {
     "name": "stdout",
     "output_type": "stream",
     "text": [
      "Script:  has solidified like curdled milk. The IVs in his arms are plugged into outlets that appear to be grafted to his flesh. He feels the weight of another cable and reaches to the back of his head where he finds an enormous coaxial plugged and locked into the base of his skull. He tries to pull it out but it would be easier to pull off a finger. To either side he sees other tube shaped pods filled with red gelatin beneath the wax like surface, pale and motionless, he sees other human beings. Fanning out in a circle, there are more. All connected to a center core,each capsule like a red, dimly glowing petal attached to a black metal stem. Above him, level after level, the stem rises seemingly forever. He moves to the foot of the capsule and looks out. The image assaults his mind. Towers of glowing petals spiral up to incomprehensible heights, disappearing down into a dim murk like an underwater abyss. His sight is blurred and warped, exaggerating the intensity of the vision. The sound of th\n",
      "Prediction: 3\n"
     ]
    }
   ],
   "source": [
    "# Predicting values\n",
    "row = randint(0,test.shape[0]-1)\n",
    "sample_script = test.text[row]\n",
    "\n",
    "print('Script: {}'.format(sample_script))\n",
    "value = genre_prediction(sample_script)\n",
    "print('Prediction: {}'.format(train['genre'].unique()[value]))"
   ]
  },
  {
   "cell_type": "code",
   "execution_count": 60,
   "id": "29ab8f03",
   "metadata": {},
   "outputs": [
    {
     "name": "stdout",
     "output_type": "stream",
     "text": [
      "Script: houts You're going to be late! ANNIE to Laurie He shouts, too. Brackett smiles as Loomis walks up behind him. BRACKETT Goodbye, girls. ANNIE AND LAURIE Bye. Annie's car pulls away. LOOMIS Sheriff? I'm Doctor Sam Loomis. BRACKETT Lee Brackett. As they talk CAMERA SLOWLY MOVES AROUND THEM to a view of the street. LOOMIS I'd like to talk to you, if I could. BRACKETT May be a few minutes. I gotta stick around here... LOOMIS It's important. Loomis' station wagon moves by behind them. Loomis doesn't see it. BRACKETT Ten minutes. LOOMIS I'll be here. CUT TO EXT. MOON NIGHT Through the blowing trees we see the full moon rising in the night sky. The are SOUNDS of wind and CHIRPING CRICKETS. EXT. RESIDENTIAL STREET NIGHT Annie's car moves down a quiet little residential street and pull up in front of a two story house set back from the street the Doyle house. ANGLE FROM STATION WAGON We are in the front seat of the station wagon. Through the windshield we see Laurie get out of Annie's car, say g\n",
      "Prediction: 2\n"
     ]
    }
   ],
   "source": [
    "# Predicting values\n",
    "row = randint(0,test.shape[0]-1)\n",
    "sample_script = test.text[row]\n",
    "\n",
    "print('Script: {}'.format(sample_script))\n",
    "value = genre_prediction(sample_script)\n",
    "print('Prediction: {}'.format(train['genre'].unique()[value]))"
   ]
  },
  {
   "cell_type": "code",
   "execution_count": 63,
   "id": "c8c25190",
   "metadata": {},
   "outputs": [
    {
     "name": "stdout",
     "output_type": "stream",
     "text": [
      "Script: o a nearby trash can that's overflowing with cigar shavings already . Suga presses against Craig. SUGA Would you like a glass of wine, baby? CRAIG No thank you. It's too early. Uncle Elroy stuffs the open cigar full of weed. He's concentrating. UNCLE ELROY Boy, I can roll a blunt better than them bitches in Havana. I know Willie don't let'cha smoke in the house, but I'm ya uncle. I don't care how high you get in my house. Long as you let me hit it... He licks and rolls. UNCLE ELROY cont'd Look at that. It's perfect. SUGA Fire it up, Roy. Uncle Elroy grabs the lighter. UNCLE ELROY Now I'mma show you the real Puff Daddy. He lights the blunt. Craig's watching, so is Suga. Uncle Elroy holds the smoke in for a very long time. Maybe too long...'cause his eyes start to bulge, and he starts to toke cough with your mouth closed . And toke. And toke. And toke. It looks like he's about to bust when he lets out a big puff of smoke. Then he starts to cough, and cough, and cough out of control. Crai\n",
      "Prediction: 1\n"
     ]
    }
   ],
   "source": [
    "# Predicting values\n",
    "row = randint(0,test.shape[0]-1)\n",
    "sample_script = test.text[row]\n",
    "\n",
    "print('Script: {}'.format(sample_script))\n",
    "value = genre_prediction(sample_script)\n",
    "print('Prediction: {}'.format(train['genre'].unique()[value]))"
   ]
  },
  {
   "cell_type": "code",
   "execution_count": null,
   "id": "a85bd253",
   "metadata": {},
   "outputs": [],
   "source": []
  }
 ],
 "metadata": {
  "kernelspec": {
   "display_name": "Python 3 (ipykernel)",
   "language": "python",
   "name": "python3"
  },
  "language_info": {
   "codemirror_mode": {
    "name": "ipython",
    "version": 3
   },
   "file_extension": ".py",
   "mimetype": "text/x-python",
   "name": "python",
   "nbconvert_exporter": "python",
   "pygments_lexer": "ipython3",
   "version": "3.9.5"
  }
 },
 "nbformat": 4,
 "nbformat_minor": 5
}
